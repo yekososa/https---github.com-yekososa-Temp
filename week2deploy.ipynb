{
 "cells": [
  {
   "cell_type": "code",
   "execution_count": 1,
   "id": "7138ff07",
   "metadata": {},
   "outputs": [
    {
     "name": "stdout",
     "output_type": "stream",
     "text": [
      "Requirement already satisfied: fastai in /home/yekososa/mambaforge/lib/python3.10/site-packages (2.7.11)\n",
      "Requirement already satisfied: matplotlib in /home/yekososa/mambaforge/lib/python3.10/site-packages (from fastai) (3.7.1)\n",
      "Requirement already satisfied: fastprogress>=0.2.4 in /home/yekososa/mambaforge/lib/python3.10/site-packages (from fastai) (1.0.3)\n",
      "Requirement already satisfied: packaging in /home/yekososa/mambaforge/lib/python3.10/site-packages (from fastai) (23.1)\n",
      "Requirement already satisfied: pandas in /home/yekososa/mambaforge/lib/python3.10/site-packages (from fastai) (2.0.2)\n",
      "Requirement already satisfied: pip in /home/yekososa/mambaforge/lib/python3.10/site-packages (from fastai) (23.0.1)\n",
      "Requirement already satisfied: pillow>6.0.0 in /home/yekososa/mambaforge/lib/python3.10/site-packages (from fastai) (9.5.0)\n",
      "Requirement already satisfied: scikit-learn in /home/yekososa/mambaforge/lib/python3.10/site-packages (from fastai) (1.2.2)\n",
      "Requirement already satisfied: torch<1.14,>=1.7 in /home/yekososa/mambaforge/lib/python3.10/site-packages (from fastai) (1.13.1.post200)\n",
      "Requirement already satisfied: pyyaml in /home/yekososa/mambaforge/lib/python3.10/site-packages (from fastai) (6.0)\n",
      "Requirement already satisfied: spacy<4 in /home/yekososa/mambaforge/lib/python3.10/site-packages (from fastai) (3.5.3)\n",
      "Requirement already satisfied: fastdownload<2,>=0.0.5 in /home/yekososa/mambaforge/lib/python3.10/site-packages (from fastai) (0.0.7)\n",
      "Requirement already satisfied: requests in /home/yekososa/mambaforge/lib/python3.10/site-packages (from fastai) (2.28.2)\n",
      "Requirement already satisfied: scipy in /home/yekososa/mambaforge/lib/python3.10/site-packages (from fastai) (1.10.1)\n",
      "Requirement already satisfied: fastcore<1.6,>=1.4.5 in /home/yekososa/mambaforge/lib/python3.10/site-packages (from fastai) (1.5.29)\n",
      "Requirement already satisfied: torchvision>=0.8.2 in /home/yekososa/mambaforge/lib/python3.10/site-packages (from fastai) (0.14.1a0+59d9189)\n",
      "Requirement already satisfied: murmurhash<1.1.0,>=0.28.0 in /home/yekososa/mambaforge/lib/python3.10/site-packages (from spacy<4->fastai) (1.0.9)\n",
      "Requirement already satisfied: spacy-loggers<2.0.0,>=1.0.0 in /home/yekososa/mambaforge/lib/python3.10/site-packages (from spacy<4->fastai) (1.0.4)\n",
      "Requirement already satisfied: spacy-legacy<3.1.0,>=3.0.11 in /home/yekososa/mambaforge/lib/python3.10/site-packages (from spacy<4->fastai) (3.0.12)\n",
      "Requirement already satisfied: smart-open<7.0.0,>=5.2.1 in /home/yekososa/mambaforge/lib/python3.10/site-packages (from spacy<4->fastai) (5.2.1)\n",
      "Requirement already satisfied: typer<0.8.0,>=0.3.0 in /home/yekososa/mambaforge/lib/python3.10/site-packages (from spacy<4->fastai) (0.7.0)\n",
      "Requirement already satisfied: numpy>=1.15.0 in /home/yekososa/mambaforge/lib/python3.10/site-packages (from spacy<4->fastai) (1.24.3)\n",
      "Requirement already satisfied: tqdm<5.0.0,>=4.38.0 in /home/yekososa/mambaforge/lib/python3.10/site-packages (from spacy<4->fastai) (4.65.0)\n",
      "Requirement already satisfied: cymem<2.1.0,>=2.0.2 in /home/yekososa/mambaforge/lib/python3.10/site-packages (from spacy<4->fastai) (2.0.7)\n",
      "Requirement already satisfied: preshed<3.1.0,>=3.0.2 in /home/yekososa/mambaforge/lib/python3.10/site-packages (from spacy<4->fastai) (3.0.8)\n",
      "Requirement already satisfied: setuptools in /home/yekososa/mambaforge/lib/python3.10/site-packages (from spacy<4->fastai) (65.6.3)\n",
      "Requirement already satisfied: srsly<3.0.0,>=2.4.3 in /home/yekososa/mambaforge/lib/python3.10/site-packages (from spacy<4->fastai) (2.4.6)\n",
      "Requirement already satisfied: thinc<8.2.0,>=8.1.8 in /home/yekososa/mambaforge/lib/python3.10/site-packages (from spacy<4->fastai) (8.1.10)\n",
      "Requirement already satisfied: langcodes<4.0.0,>=3.2.0 in /home/yekososa/mambaforge/lib/python3.10/site-packages (from spacy<4->fastai) (3.3.0)\n",
      "Requirement already satisfied: pydantic!=1.8,!=1.8.1,<1.11.0,>=1.7.4 in /home/yekososa/mambaforge/lib/python3.10/site-packages (from spacy<4->fastai) (1.10.9)\n",
      "Requirement already satisfied: catalogue<2.1.0,>=2.0.6 in /home/yekososa/mambaforge/lib/python3.10/site-packages (from spacy<4->fastai) (2.0.8)\n",
      "Requirement already satisfied: jinja2 in /home/yekososa/mambaforge/lib/python3.10/site-packages (from spacy<4->fastai) (3.1.2)\n",
      "Requirement already satisfied: pathy>=0.10.0 in /home/yekososa/mambaforge/lib/python3.10/site-packages (from spacy<4->fastai) (0.10.1)\n",
      "Requirement already satisfied: wasabi<1.2.0,>=0.9.1 in /home/yekososa/mambaforge/lib/python3.10/site-packages (from spacy<4->fastai) (1.1.2)\n",
      "Requirement already satisfied: urllib3<1.27,>=1.21.1 in /home/yekososa/mambaforge/lib/python3.10/site-packages (from requests->fastai) (1.26.15)\n",
      "Requirement already satisfied: idna<4,>=2.5 in /home/yekososa/mambaforge/lib/python3.10/site-packages (from requests->fastai) (3.4)\n",
      "Requirement already satisfied: charset-normalizer<4,>=2 in /home/yekososa/mambaforge/lib/python3.10/site-packages (from requests->fastai) (3.1.0)\n",
      "Requirement already satisfied: certifi>=2017.4.17 in /home/yekososa/mambaforge/lib/python3.10/site-packages (from requests->fastai) (2023.5.7)\n",
      "Requirement already satisfied: typing_extensions in /home/yekososa/mambaforge/lib/python3.10/site-packages (from torch<1.14,>=1.7->fastai) (4.6.3)\n",
      "Requirement already satisfied: pyparsing>=2.3.1 in /home/yekososa/mambaforge/lib/python3.10/site-packages (from matplotlib->fastai) (3.0.9)\n",
      "Requirement already satisfied: python-dateutil>=2.7 in /home/yekososa/mambaforge/lib/python3.10/site-packages (from matplotlib->fastai) (2.8.2)\n",
      "Requirement already satisfied: cycler>=0.10 in /home/yekososa/mambaforge/lib/python3.10/site-packages (from matplotlib->fastai) (0.11.0)\n",
      "Requirement already satisfied: fonttools>=4.22.0 in /home/yekososa/mambaforge/lib/python3.10/site-packages (from matplotlib->fastai) (4.40.0)\n",
      "Requirement already satisfied: contourpy>=1.0.1 in /home/yekososa/mambaforge/lib/python3.10/site-packages (from matplotlib->fastai) (1.0.7)\n",
      "Requirement already satisfied: kiwisolver>=1.0.1 in /home/yekososa/mambaforge/lib/python3.10/site-packages (from matplotlib->fastai) (1.4.4)\n",
      "Requirement already satisfied: tzdata>=2022.1 in /home/yekososa/mambaforge/lib/python3.10/site-packages (from pandas->fastai) (2023.3)\n",
      "Requirement already satisfied: pytz>=2020.1 in /home/yekososa/mambaforge/lib/python3.10/site-packages (from pandas->fastai) (2023.3)\n",
      "Requirement already satisfied: threadpoolctl>=2.0.0 in /home/yekososa/mambaforge/lib/python3.10/site-packages (from scikit-learn->fastai) (3.1.0)\n",
      "Requirement already satisfied: joblib>=1.1.1 in /home/yekososa/mambaforge/lib/python3.10/site-packages (from scikit-learn->fastai) (1.2.0)\n",
      "Requirement already satisfied: six>=1.5 in /home/yekososa/mambaforge/lib/python3.10/site-packages (from python-dateutil>=2.7->matplotlib->fastai) (1.16.0)\n",
      "Requirement already satisfied: confection<1.0.0,>=0.0.1 in /home/yekososa/mambaforge/lib/python3.10/site-packages (from thinc<8.2.0,>=8.1.8->spacy<4->fastai) (0.0.4)\n",
      "Requirement already satisfied: blis<0.8.0,>=0.7.8 in /home/yekososa/mambaforge/lib/python3.10/site-packages (from thinc<8.2.0,>=8.1.8->spacy<4->fastai) (0.7.9)\n",
      "Requirement already satisfied: click<9.0.0,>=7.1.1 in /home/yekososa/mambaforge/lib/python3.10/site-packages (from typer<0.8.0,>=0.3.0->spacy<4->fastai) (8.1.3)\n",
      "Requirement already satisfied: MarkupSafe>=2.0 in /home/yekososa/mambaforge/lib/python3.10/site-packages (from jinja2->spacy<4->fastai) (2.1.3)\n",
      "Requirement already satisfied: fastbook in /home/yekososa/mambaforge/lib/python3.10/site-packages (0.0.29)\n",
      "Requirement already satisfied: packaging in /home/yekososa/mambaforge/lib/python3.10/site-packages (from fastbook) (23.1)\n",
      "Requirement already satisfied: requests in /home/yekososa/mambaforge/lib/python3.10/site-packages (from fastbook) (2.28.2)\n",
      "Requirement already satisfied: ipywidgets<8 in /home/yekososa/mambaforge/lib/python3.10/site-packages (from fastbook) (7.7.5)\n",
      "Requirement already satisfied: sentencepiece in /home/yekososa/mambaforge/lib/python3.10/site-packages (from fastbook) (0.1.99)\n",
      "Requirement already satisfied: fastai>=2.6 in /home/yekososa/mambaforge/lib/python3.10/site-packages (from fastbook) (2.7.11)\n",
      "Requirement already satisfied: pandas in /home/yekososa/mambaforge/lib/python3.10/site-packages (from fastbook) (2.0.2)\n",
      "Requirement already satisfied: transformers in /home/yekososa/mambaforge/lib/python3.10/site-packages (from fastbook) (4.30.2)\n",
      "Requirement already satisfied: pip in /home/yekososa/mambaforge/lib/python3.10/site-packages (from fastbook) (23.0.1)\n",
      "Requirement already satisfied: graphviz in /home/yekososa/mambaforge/lib/python3.10/site-packages (from fastbook) (0.20.1)\n",
      "Requirement already satisfied: datasets in /home/yekososa/mambaforge/lib/python3.10/site-packages (from fastbook) (2.13.0)\n",
      "Requirement already satisfied: torchvision>=0.8.2 in /home/yekososa/mambaforge/lib/python3.10/site-packages (from fastai>=2.6->fastbook) (0.14.1a0+59d9189)\n",
      "Requirement already satisfied: fastcore<1.6,>=1.4.5 in /home/yekososa/mambaforge/lib/python3.10/site-packages (from fastai>=2.6->fastbook) (1.5.29)\n",
      "Requirement already satisfied: fastdownload<2,>=0.0.5 in /home/yekososa/mambaforge/lib/python3.10/site-packages (from fastai>=2.6->fastbook) (0.0.7)\n",
      "Requirement already satisfied: matplotlib in /home/yekososa/mambaforge/lib/python3.10/site-packages (from fastai>=2.6->fastbook) (3.7.1)\n",
      "Requirement already satisfied: fastprogress>=0.2.4 in /home/yekososa/mambaforge/lib/python3.10/site-packages (from fastai>=2.6->fastbook) (1.0.3)\n",
      "Requirement already satisfied: scipy in /home/yekososa/mambaforge/lib/python3.10/site-packages (from fastai>=2.6->fastbook) (1.10.1)\n",
      "Requirement already satisfied: scikit-learn in /home/yekososa/mambaforge/lib/python3.10/site-packages (from fastai>=2.6->fastbook) (1.2.2)\n",
      "Requirement already satisfied: spacy<4 in /home/yekososa/mambaforge/lib/python3.10/site-packages (from fastai>=2.6->fastbook) (3.5.3)\n",
      "Requirement already satisfied: pillow>6.0.0 in /home/yekososa/mambaforge/lib/python3.10/site-packages (from fastai>=2.6->fastbook) (9.5.0)\n",
      "Requirement already satisfied: torch<1.14,>=1.7 in /home/yekososa/mambaforge/lib/python3.10/site-packages (from fastai>=2.6->fastbook) (1.13.1.post200)\n",
      "Requirement already satisfied: pyyaml in /home/yekososa/mambaforge/lib/python3.10/site-packages (from fastai>=2.6->fastbook) (6.0)\n",
      "Requirement already satisfied: ipykernel>=4.5.1 in /home/yekososa/mambaforge/lib/python3.10/site-packages (from ipywidgets<8->fastbook) (6.23.2)\n",
      "Requirement already satisfied: ipython-genutils~=0.2.0 in /home/yekososa/mambaforge/lib/python3.10/site-packages (from ipywidgets<8->fastbook) (0.2.0)\n",
      "Requirement already satisfied: widgetsnbextension~=3.6.4 in /home/yekososa/mambaforge/lib/python3.10/site-packages (from ipywidgets<8->fastbook) (3.6.4)\n",
      "Requirement already satisfied: jupyterlab-widgets<3,>=1.0.0 in /home/yekososa/mambaforge/lib/python3.10/site-packages (from ipywidgets<8->fastbook) (1.1.4)\n",
      "Requirement already satisfied: traitlets>=4.3.1 in /home/yekososa/mambaforge/lib/python3.10/site-packages (from ipywidgets<8->fastbook) (5.9.0)\n",
      "Requirement already satisfied: ipython>=4.0.0 in /home/yekososa/mambaforge/lib/python3.10/site-packages (from ipywidgets<8->fastbook) (8.14.0)\n"
     ]
    },
    {
     "name": "stdout",
     "output_type": "stream",
     "text": [
      "Requirement already satisfied: numpy>=1.17 in /home/yekososa/mambaforge/lib/python3.10/site-packages (from datasets->fastbook) (1.24.3)\n",
      "Requirement already satisfied: dill<0.3.7,>=0.3.0 in /home/yekososa/mambaforge/lib/python3.10/site-packages (from datasets->fastbook) (0.3.6)\n",
      "Requirement already satisfied: tqdm>=4.62.1 in /home/yekososa/mambaforge/lib/python3.10/site-packages (from datasets->fastbook) (4.65.0)\n",
      "Requirement already satisfied: fsspec[http]>=2021.11.1 in /home/yekososa/mambaforge/lib/python3.10/site-packages (from datasets->fastbook) (2023.6.0)\n",
      "Requirement already satisfied: huggingface-hub<1.0.0,>=0.11.0 in /home/yekososa/mambaforge/lib/python3.10/site-packages (from datasets->fastbook) (0.15.1)\n",
      "Requirement already satisfied: multiprocess in /home/yekososa/mambaforge/lib/python3.10/site-packages (from datasets->fastbook) (0.70.14)\n",
      "Requirement already satisfied: aiohttp in /home/yekososa/mambaforge/lib/python3.10/site-packages (from datasets->fastbook) (3.8.4)\n",
      "Requirement already satisfied: pyarrow>=8.0.0 in /home/yekososa/mambaforge/lib/python3.10/site-packages (from datasets->fastbook) (12.0.1)\n",
      "Requirement already satisfied: xxhash in /home/yekososa/mambaforge/lib/python3.10/site-packages (from datasets->fastbook) (3.2.0)\n",
      "Requirement already satisfied: charset-normalizer<4,>=2 in /home/yekososa/mambaforge/lib/python3.10/site-packages (from requests->fastbook) (3.1.0)\n",
      "Requirement already satisfied: idna<4,>=2.5 in /home/yekososa/mambaforge/lib/python3.10/site-packages (from requests->fastbook) (3.4)\n",
      "Requirement already satisfied: certifi>=2017.4.17 in /home/yekososa/mambaforge/lib/python3.10/site-packages (from requests->fastbook) (2023.5.7)\n",
      "Requirement already satisfied: urllib3<1.27,>=1.21.1 in /home/yekososa/mambaforge/lib/python3.10/site-packages (from requests->fastbook) (1.26.15)\n",
      "Requirement already satisfied: tzdata>=2022.1 in /home/yekososa/mambaforge/lib/python3.10/site-packages (from pandas->fastbook) (2023.3)\n",
      "Requirement already satisfied: pytz>=2020.1 in /home/yekososa/mambaforge/lib/python3.10/site-packages (from pandas->fastbook) (2023.3)\n",
      "Requirement already satisfied: python-dateutil>=2.8.2 in /home/yekososa/mambaforge/lib/python3.10/site-packages (from pandas->fastbook) (2.8.2)\n",
      "Requirement already satisfied: regex!=2019.12.17 in /home/yekososa/mambaforge/lib/python3.10/site-packages (from transformers->fastbook) (2023.6.3)\n",
      "Requirement already satisfied: tokenizers!=0.11.3,<0.14,>=0.11.1 in /home/yekososa/mambaforge/lib/python3.10/site-packages (from transformers->fastbook) (0.13.3)\n",
      "Requirement already satisfied: safetensors>=0.3.1 in /home/yekososa/mambaforge/lib/python3.10/site-packages (from transformers->fastbook) (0.3.1)\n",
      "Requirement already satisfied: filelock in /home/yekososa/mambaforge/lib/python3.10/site-packages (from transformers->fastbook) (3.12.2)\n",
      "Requirement already satisfied: frozenlist>=1.1.1 in /home/yekososa/mambaforge/lib/python3.10/site-packages (from aiohttp->datasets->fastbook) (1.3.3)\n",
      "Requirement already satisfied: aiosignal>=1.1.2 in /home/yekososa/mambaforge/lib/python3.10/site-packages (from aiohttp->datasets->fastbook) (1.3.1)\n",
      "Requirement already satisfied: async-timeout<5.0,>=4.0.0a3 in /home/yekososa/mambaforge/lib/python3.10/site-packages (from aiohttp->datasets->fastbook) (4.0.2)\n",
      "Requirement already satisfied: multidict<7.0,>=4.5 in /home/yekososa/mambaforge/lib/python3.10/site-packages (from aiohttp->datasets->fastbook) (6.0.4)\n",
      "Requirement already satisfied: attrs>=17.3.0 in /home/yekososa/mambaforge/lib/python3.10/site-packages (from aiohttp->datasets->fastbook) (23.1.0)\n",
      "Requirement already satisfied: yarl<2.0,>=1.0 in /home/yekososa/mambaforge/lib/python3.10/site-packages (from aiohttp->datasets->fastbook) (1.9.2)\n",
      "Requirement already satisfied: typing-extensions>=3.7.4.3 in /home/yekososa/mambaforge/lib/python3.10/site-packages (from huggingface-hub<1.0.0,>=0.11.0->datasets->fastbook) (4.6.3)\n",
      "Requirement already satisfied: jupyter-client>=6.1.12 in /home/yekososa/mambaforge/lib/python3.10/site-packages (from ipykernel>=4.5.1->ipywidgets<8->fastbook) (7.4.1)\n",
      "Requirement already satisfied: tornado>=6.1 in /home/yekososa/mambaforge/lib/python3.10/site-packages (from ipykernel>=4.5.1->ipywidgets<8->fastbook) (6.3.2)\n",
      "Requirement already satisfied: debugpy>=1.6.5 in /home/yekososa/mambaforge/lib/python3.10/site-packages (from ipykernel>=4.5.1->ipywidgets<8->fastbook) (1.6.7)\n",
      "Requirement already satisfied: psutil in /home/yekososa/mambaforge/lib/python3.10/site-packages (from ipykernel>=4.5.1->ipywidgets<8->fastbook) (5.9.5)\n",
      "Requirement already satisfied: pyzmq>=20 in /home/yekososa/mambaforge/lib/python3.10/site-packages (from ipykernel>=4.5.1->ipywidgets<8->fastbook) (25.1.0)\n",
      "Requirement already satisfied: jupyter-core!=5.0.*,>=4.12 in /home/yekososa/mambaforge/lib/python3.10/site-packages (from ipykernel>=4.5.1->ipywidgets<8->fastbook) (5.3.0)\n",
      "Requirement already satisfied: matplotlib-inline>=0.1 in /home/yekososa/mambaforge/lib/python3.10/site-packages (from ipykernel>=4.5.1->ipywidgets<8->fastbook) (0.1.6)\n",
      "Requirement already satisfied: comm>=0.1.1 in /home/yekososa/mambaforge/lib/python3.10/site-packages (from ipykernel>=4.5.1->ipywidgets<8->fastbook) (0.1.3)\n",
      "Requirement already satisfied: nest-asyncio in /home/yekososa/mambaforge/lib/python3.10/site-packages (from ipykernel>=4.5.1->ipywidgets<8->fastbook) (1.5.6)\n",
      "Requirement already satisfied: pickleshare in /home/yekososa/mambaforge/lib/python3.10/site-packages (from ipython>=4.0.0->ipywidgets<8->fastbook) (0.7.5)\n",
      "Requirement already satisfied: prompt-toolkit!=3.0.37,<3.1.0,>=3.0.30 in /home/yekososa/mambaforge/lib/python3.10/site-packages (from ipython>=4.0.0->ipywidgets<8->fastbook) (3.0.38)\n",
      "Requirement already satisfied: stack-data in /home/yekososa/mambaforge/lib/python3.10/site-packages (from ipython>=4.0.0->ipywidgets<8->fastbook) (0.6.2)\n",
      "Requirement already satisfied: pexpect>4.3 in /home/yekososa/mambaforge/lib/python3.10/site-packages (from ipython>=4.0.0->ipywidgets<8->fastbook) (4.8.0)\n",
      "Requirement already satisfied: backcall in /home/yekososa/mambaforge/lib/python3.10/site-packages (from ipython>=4.0.0->ipywidgets<8->fastbook) (0.2.0)\n",
      "Requirement already satisfied: decorator in /home/yekososa/mambaforge/lib/python3.10/site-packages (from ipython>=4.0.0->ipywidgets<8->fastbook) (5.1.1)\n",
      "Requirement already satisfied: jedi>=0.16 in /home/yekososa/mambaforge/lib/python3.10/site-packages (from ipython>=4.0.0->ipywidgets<8->fastbook) (0.18.2)\n",
      "Requirement already satisfied: pygments>=2.4.0 in /home/yekososa/mambaforge/lib/python3.10/site-packages (from ipython>=4.0.0->ipywidgets<8->fastbook) (2.15.1)\n",
      "Requirement already satisfied: six>=1.5 in /home/yekososa/mambaforge/lib/python3.10/site-packages (from python-dateutil>=2.8.2->pandas->fastbook) (1.16.0)\n",
      "Requirement already satisfied: srsly<3.0.0,>=2.4.3 in /home/yekososa/mambaforge/lib/python3.10/site-packages (from spacy<4->fastai>=2.6->fastbook) (2.4.6)\n",
      "Requirement already satisfied: smart-open<7.0.0,>=5.2.1 in /home/yekososa/mambaforge/lib/python3.10/site-packages (from spacy<4->fastai>=2.6->fastbook) (5.2.1)\n",
      "Requirement already satisfied: cymem<2.1.0,>=2.0.2 in /home/yekososa/mambaforge/lib/python3.10/site-packages (from spacy<4->fastai>=2.6->fastbook) (2.0.7)\n",
      "Requirement already satisfied: spacy-legacy<3.1.0,>=3.0.11 in /home/yekososa/mambaforge/lib/python3.10/site-packages (from spacy<4->fastai>=2.6->fastbook) (3.0.12)\n",
      "Requirement already satisfied: catalogue<2.1.0,>=2.0.6 in /home/yekososa/mambaforge/lib/python3.10/site-packages (from spacy<4->fastai>=2.6->fastbook) (2.0.8)\n",
      "Requirement already satisfied: pydantic!=1.8,!=1.8.1,<1.11.0,>=1.7.4 in /home/yekososa/mambaforge/lib/python3.10/site-packages (from spacy<4->fastai>=2.6->fastbook) (1.10.9)\n",
      "Requirement already satisfied: pathy>=0.10.0 in /home/yekososa/mambaforge/lib/python3.10/site-packages (from spacy<4->fastai>=2.6->fastbook) (0.10.1)\n",
      "Requirement already satisfied: thinc<8.2.0,>=8.1.8 in /home/yekososa/mambaforge/lib/python3.10/site-packages (from spacy<4->fastai>=2.6->fastbook) (8.1.10)\n",
      "Requirement already satisfied: langcodes<4.0.0,>=3.2.0 in /home/yekososa/mambaforge/lib/python3.10/site-packages (from spacy<4->fastai>=2.6->fastbook) (3.3.0)\n",
      "Requirement already satisfied: typer<0.8.0,>=0.3.0 in /home/yekososa/mambaforge/lib/python3.10/site-packages (from spacy<4->fastai>=2.6->fastbook) (0.7.0)\n",
      "Requirement already satisfied: preshed<3.1.0,>=3.0.2 in /home/yekososa/mambaforge/lib/python3.10/site-packages (from spacy<4->fastai>=2.6->fastbook) (3.0.8)\n",
      "Requirement already satisfied: setuptools in /home/yekososa/mambaforge/lib/python3.10/site-packages (from spacy<4->fastai>=2.6->fastbook) (65.6.3)\n",
      "Requirement already satisfied: wasabi<1.2.0,>=0.9.1 in /home/yekososa/mambaforge/lib/python3.10/site-packages (from spacy<4->fastai>=2.6->fastbook) (1.1.2)\n",
      "Requirement already satisfied: murmurhash<1.1.0,>=0.28.0 in /home/yekososa/mambaforge/lib/python3.10/site-packages (from spacy<4->fastai>=2.6->fastbook) (1.0.9)\n",
      "Requirement already satisfied: jinja2 in /home/yekososa/mambaforge/lib/python3.10/site-packages (from spacy<4->fastai>=2.6->fastbook) (3.1.2)\n",
      "Requirement already satisfied: spacy-loggers<2.0.0,>=1.0.0 in /home/yekososa/mambaforge/lib/python3.10/site-packages (from spacy<4->fastai>=2.6->fastbook) (1.0.4)\n"
     ]
    },
    {
     "name": "stdout",
     "output_type": "stream",
     "text": [
      "Requirement already satisfied: notebook>=4.4.1 in /home/yekososa/mambaforge/lib/python3.10/site-packages (from widgetsnbextension~=3.6.4->ipywidgets<8->fastbook) (6.5.4)\n",
      "Requirement already satisfied: kiwisolver>=1.0.1 in /home/yekososa/mambaforge/lib/python3.10/site-packages (from matplotlib->fastai>=2.6->fastbook) (1.4.4)\n",
      "Requirement already satisfied: cycler>=0.10 in /home/yekososa/mambaforge/lib/python3.10/site-packages (from matplotlib->fastai>=2.6->fastbook) (0.11.0)\n",
      "Requirement already satisfied: fonttools>=4.22.0 in /home/yekososa/mambaforge/lib/python3.10/site-packages (from matplotlib->fastai>=2.6->fastbook) (4.40.0)\n",
      "Requirement already satisfied: pyparsing>=2.3.1 in /home/yekososa/mambaforge/lib/python3.10/site-packages (from matplotlib->fastai>=2.6->fastbook) (3.0.9)\n",
      "Requirement already satisfied: contourpy>=1.0.1 in /home/yekososa/mambaforge/lib/python3.10/site-packages (from matplotlib->fastai>=2.6->fastbook) (1.0.7)\n",
      "Requirement already satisfied: threadpoolctl>=2.0.0 in /home/yekososa/mambaforge/lib/python3.10/site-packages (from scikit-learn->fastai>=2.6->fastbook) (3.1.0)\n",
      "Requirement already satisfied: joblib>=1.1.1 in /home/yekososa/mambaforge/lib/python3.10/site-packages (from scikit-learn->fastai>=2.6->fastbook) (1.2.0)\n",
      "Requirement already satisfied: parso<0.9.0,>=0.8.0 in /home/yekososa/mambaforge/lib/python3.10/site-packages (from jedi>=0.16->ipython>=4.0.0->ipywidgets<8->fastbook) (0.8.3)\n",
      "Requirement already satisfied: entrypoints in /home/yekososa/mambaforge/lib/python3.10/site-packages (from jupyter-client>=6.1.12->ipykernel>=4.5.1->ipywidgets<8->fastbook) (0.4)\n",
      "Requirement already satisfied: platformdirs>=2.5 in /home/yekososa/mambaforge/lib/python3.10/site-packages (from jupyter-core!=5.0.*,>=4.12->ipykernel>=4.5.1->ipywidgets<8->fastbook) (3.5.3)\n",
      "Requirement already satisfied: argon2-cffi in /home/yekososa/mambaforge/lib/python3.10/site-packages (from notebook>=4.4.1->widgetsnbextension~=3.6.4->ipywidgets<8->fastbook) (21.3.0)\n",
      "Requirement already satisfied: Send2Trash>=1.8.0 in /home/yekososa/mambaforge/lib/python3.10/site-packages (from notebook>=4.4.1->widgetsnbextension~=3.6.4->ipywidgets<8->fastbook) (1.8.2)\n",
      "Requirement already satisfied: nbclassic>=0.4.7 in /home/yekososa/mambaforge/lib/python3.10/site-packages (from notebook>=4.4.1->widgetsnbextension~=3.6.4->ipywidgets<8->fastbook) (1.0.0)\n",
      "Requirement already satisfied: prometheus-client in /home/yekososa/mambaforge/lib/python3.10/site-packages (from notebook>=4.4.1->widgetsnbextension~=3.6.4->ipywidgets<8->fastbook) (0.17.0)\n",
      "Requirement already satisfied: nbformat in /home/yekososa/mambaforge/lib/python3.10/site-packages (from notebook>=4.4.1->widgetsnbextension~=3.6.4->ipywidgets<8->fastbook) (5.9.0)\n",
      "Requirement already satisfied: nbconvert>=5 in /home/yekososa/mambaforge/lib/python3.10/site-packages (from notebook>=4.4.1->widgetsnbextension~=3.6.4->ipywidgets<8->fastbook) (7.4.0)\n",
      "Requirement already satisfied: terminado>=0.8.3 in /home/yekososa/mambaforge/lib/python3.10/site-packages (from notebook>=4.4.1->widgetsnbextension~=3.6.4->ipywidgets<8->fastbook) (0.17.1)\n",
      "Requirement already satisfied: ptyprocess>=0.5 in /home/yekososa/mambaforge/lib/python3.10/site-packages (from pexpect>4.3->ipython>=4.0.0->ipywidgets<8->fastbook) (0.7.0)\n",
      "Requirement already satisfied: wcwidth in /home/yekososa/mambaforge/lib/python3.10/site-packages (from prompt-toolkit!=3.0.37,<3.1.0,>=3.0.30->ipython>=4.0.0->ipywidgets<8->fastbook) (0.2.6)\n",
      "Requirement already satisfied: confection<1.0.0,>=0.0.1 in /home/yekososa/mambaforge/lib/python3.10/site-packages (from thinc<8.2.0,>=8.1.8->spacy<4->fastai>=2.6->fastbook) (0.0.4)\n",
      "Requirement already satisfied: blis<0.8.0,>=0.7.8 in /home/yekososa/mambaforge/lib/python3.10/site-packages (from thinc<8.2.0,>=8.1.8->spacy<4->fastai>=2.6->fastbook) (0.7.9)\n",
      "Requirement already satisfied: click<9.0.0,>=7.1.1 in /home/yekososa/mambaforge/lib/python3.10/site-packages (from typer<0.8.0,>=0.3.0->spacy<4->fastai>=2.6->fastbook) (8.1.3)\n",
      "Requirement already satisfied: MarkupSafe>=2.0 in /home/yekososa/mambaforge/lib/python3.10/site-packages (from jinja2->spacy<4->fastai>=2.6->fastbook) (2.1.3)\n",
      "Requirement already satisfied: executing>=1.2.0 in /home/yekososa/mambaforge/lib/python3.10/site-packages (from stack-data->ipython>=4.0.0->ipywidgets<8->fastbook) (1.2.0)\n",
      "Requirement already satisfied: pure-eval in /home/yekososa/mambaforge/lib/python3.10/site-packages (from stack-data->ipython>=4.0.0->ipywidgets<8->fastbook) (0.2.2)\n",
      "Requirement already satisfied: asttokens>=2.1.0 in /home/yekososa/mambaforge/lib/python3.10/site-packages (from stack-data->ipython>=4.0.0->ipywidgets<8->fastbook) (2.2.1)\n",
      "Requirement already satisfied: notebook-shim>=0.2.3 in /home/yekososa/mambaforge/lib/python3.10/site-packages (from nbclassic>=0.4.7->notebook>=4.4.1->widgetsnbextension~=3.6.4->ipywidgets<8->fastbook) (0.2.3)\n",
      "Requirement already satisfied: jupyter-server>=1.8 in /home/yekososa/mambaforge/lib/python3.10/site-packages (from nbclassic>=0.4.7->notebook>=4.4.1->widgetsnbextension~=3.6.4->ipywidgets<8->fastbook) (1.24.0)\n",
      "Requirement already satisfied: tinycss2 in /home/yekososa/mambaforge/lib/python3.10/site-packages (from nbconvert>=5->notebook>=4.4.1->widgetsnbextension~=3.6.4->ipywidgets<8->fastbook) (1.2.1)\n",
      "Requirement already satisfied: beautifulsoup4 in /home/yekososa/mambaforge/lib/python3.10/site-packages (from nbconvert>=5->notebook>=4.4.1->widgetsnbextension~=3.6.4->ipywidgets<8->fastbook) (4.12.2)\n",
      "Requirement already satisfied: defusedxml in /home/yekososa/mambaforge/lib/python3.10/site-packages (from nbconvert>=5->notebook>=4.4.1->widgetsnbextension~=3.6.4->ipywidgets<8->fastbook) (0.7.1)\n",
      "Requirement already satisfied: jupyterlab-pygments in /home/yekososa/mambaforge/lib/python3.10/site-packages (from nbconvert>=5->notebook>=4.4.1->widgetsnbextension~=3.6.4->ipywidgets<8->fastbook) (0.2.2)\n",
      "Requirement already satisfied: mistune<3,>=2.0.3 in /home/yekososa/mambaforge/lib/python3.10/site-packages (from nbconvert>=5->notebook>=4.4.1->widgetsnbextension~=3.6.4->ipywidgets<8->fastbook) (2.0.5)\n",
      "Requirement already satisfied: nbclient>=0.5.0 in /home/yekososa/mambaforge/lib/python3.10/site-packages (from nbconvert>=5->notebook>=4.4.1->widgetsnbextension~=3.6.4->ipywidgets<8->fastbook) (0.7.4)\n",
      "Requirement already satisfied: bleach in /home/yekososa/mambaforge/lib/python3.10/site-packages (from nbconvert>=5->notebook>=4.4.1->widgetsnbextension~=3.6.4->ipywidgets<8->fastbook) (6.0.0)\n",
      "Requirement already satisfied: pandocfilters>=1.4.1 in /home/yekososa/mambaforge/lib/python3.10/site-packages (from nbconvert>=5->notebook>=4.4.1->widgetsnbextension~=3.6.4->ipywidgets<8->fastbook) (1.5.0)\n",
      "Requirement already satisfied: fastjsonschema in /home/yekososa/mambaforge/lib/python3.10/site-packages (from nbformat->notebook>=4.4.1->widgetsnbextension~=3.6.4->ipywidgets<8->fastbook) (2.17.1)\n",
      "Requirement already satisfied: jsonschema>=2.6 in /home/yekososa/mambaforge/lib/python3.10/site-packages (from nbformat->notebook>=4.4.1->widgetsnbextension~=3.6.4->ipywidgets<8->fastbook) (4.17.3)\n",
      "Requirement already satisfied: argon2-cffi-bindings in /home/yekososa/mambaforge/lib/python3.10/site-packages (from argon2-cffi->notebook>=4.4.1->widgetsnbextension~=3.6.4->ipywidgets<8->fastbook) (21.2.0)\n",
      "Requirement already satisfied: pyrsistent!=0.17.0,!=0.17.1,!=0.17.2,>=0.14.0 in /home/yekososa/mambaforge/lib/python3.10/site-packages (from jsonschema>=2.6->nbformat->notebook>=4.4.1->widgetsnbextension~=3.6.4->ipywidgets<8->fastbook) (0.19.3)\n",
      "Requirement already satisfied: anyio<4,>=3.1.0 in /home/yekososa/mambaforge/lib/python3.10/site-packages (from jupyter-server>=1.8->nbclassic>=0.4.7->notebook>=4.4.1->widgetsnbextension~=3.6.4->ipywidgets<8->fastbook) (3.7.0)\n",
      "Requirement already satisfied: websocket-client in /home/yekososa/mambaforge/lib/python3.10/site-packages (from jupyter-server>=1.8->nbclassic>=0.4.7->notebook>=4.4.1->widgetsnbextension~=3.6.4->ipywidgets<8->fastbook) (1.5.3)\n",
      "Requirement already satisfied: cffi>=1.0.1 in /home/yekososa/mambaforge/lib/python3.10/site-packages (from argon2-cffi-bindings->argon2-cffi->notebook>=4.4.1->widgetsnbextension~=3.6.4->ipywidgets<8->fastbook) (1.15.1)\n",
      "Requirement already satisfied: soupsieve>1.2 in /home/yekososa/mambaforge/lib/python3.10/site-packages (from beautifulsoup4->nbconvert>=5->notebook>=4.4.1->widgetsnbextension~=3.6.4->ipywidgets<8->fastbook) (2.4.1)\n"
     ]
    },
    {
     "name": "stdout",
     "output_type": "stream",
     "text": [
      "Requirement already satisfied: webencodings in /home/yekososa/mambaforge/lib/python3.10/site-packages (from bleach->nbconvert>=5->notebook>=4.4.1->widgetsnbextension~=3.6.4->ipywidgets<8->fastbook) (0.5.1)\n",
      "Requirement already satisfied: sniffio>=1.1 in /home/yekososa/mambaforge/lib/python3.10/site-packages (from anyio<4,>=3.1.0->jupyter-server>=1.8->nbclassic>=0.4.7->notebook>=4.4.1->widgetsnbextension~=3.6.4->ipywidgets<8->fastbook) (1.3.0)\n",
      "Requirement already satisfied: exceptiongroup in /home/yekososa/mambaforge/lib/python3.10/site-packages (from anyio<4,>=3.1.0->jupyter-server>=1.8->nbclassic>=0.4.7->notebook>=4.4.1->widgetsnbextension~=3.6.4->ipywidgets<8->fastbook) (1.1.1)\n",
      "Requirement already satisfied: pycparser in /home/yekososa/mambaforge/lib/python3.10/site-packages (from cffi>=1.0.1->argon2-cffi-bindings->argon2-cffi->notebook>=4.4.1->widgetsnbextension~=3.6.4->ipywidgets<8->fastbook) (2.21)\n",
      "Requirement already satisfied: pylance in /home/yekososa/mambaforge/lib/python3.10/site-packages (0.4.21)\n",
      "Requirement already satisfied: pyarrow>=10 in /home/yekososa/mambaforge/lib/python3.10/site-packages (from pylance) (12.0.1)\n",
      "Requirement already satisfied: pandas>=1.4 in /home/yekososa/mambaforge/lib/python3.10/site-packages (from pylance) (2.0.2)\n",
      "Requirement already satisfied: numpy>=1.22 in /home/yekososa/mambaforge/lib/python3.10/site-packages (from pylance) (1.24.3)\n",
      "Requirement already satisfied: pytz>=2020.1 in /home/yekososa/mambaforge/lib/python3.10/site-packages (from pandas>=1.4->pylance) (2023.3)\n",
      "Requirement already satisfied: tzdata>=2022.1 in /home/yekososa/mambaforge/lib/python3.10/site-packages (from pandas>=1.4->pylance) (2023.3)\n",
      "Requirement already satisfied: python-dateutil>=2.8.2 in /home/yekososa/mambaforge/lib/python3.10/site-packages (from pandas>=1.4->pylance) (2.8.2)\n",
      "Requirement already satisfied: six>=1.5 in /home/yekososa/mambaforge/lib/python3.10/site-packages (from python-dateutil>=2.8.2->pandas>=1.4->pylance) (1.16.0)\n"
     ]
    }
   ],
   "source": [
    "!pip install fastai\n",
    "!pip install fastbook\n",
    "!pip install pylance\n",
    "from fastbook import *\n",
    "from ipywidgets import *\n",
    "import ipywidgets as widgets\n"
   ]
  },
  {
   "cell_type": "code",
   "execution_count": 2,
   "id": "a290bd37",
   "metadata": {},
   "outputs": [],
   "source": [
    "learn = load_learner(Path()/'export.pkl')"
   ]
  },
  {
   "cell_type": "code",
   "execution_count": 3,
   "id": "8a0252bf",
   "metadata": {},
   "outputs": [
    {
     "data": {
      "text/html": [
       "\n",
       "<style>\n",
       "    /* Turns off some styling */\n",
       "    progress {\n",
       "        /* gets rid of default border in Firefox and Opera. */\n",
       "        border: none;\n",
       "        /* Needs to be in here for Safari polyfill so background images work as expected. */\n",
       "        background-size: auto;\n",
       "    }\n",
       "    progress:not([value]), progress:not([value])::-webkit-progress-bar {\n",
       "        background: repeating-linear-gradient(45deg, #7e7e7e, #7e7e7e 10px, #5c5c5c 10px, #5c5c5c 20px);\n",
       "    }\n",
       "    .progress-bar-interrupted, .progress-bar-interrupted::-webkit-progress-bar {\n",
       "        background: #F44336;\n",
       "    }\n",
       "</style>\n"
      ],
      "text/plain": [
       "<IPython.core.display.HTML object>"
      ]
     },
     "metadata": {},
     "output_type": "display_data"
    },
    {
     "data": {
      "text/html": [],
      "text/plain": [
       "<IPython.core.display.HTML object>"
      ]
     },
     "metadata": {},
     "output_type": "display_data"
    },
    {
     "data": {
      "text/plain": [
       "('normal', TensorBase(1), TensorBase([0.0301, 0.9699]))"
      ]
     },
     "execution_count": 3,
     "metadata": {},
     "output_type": "execute_result"
    }
   ],
   "source": [
    "path = Path()\n",
    "learn.predict(path/'images.jpeg')"
   ]
  },
  {
   "cell_type": "code",
   "execution_count": 4,
   "id": "bf209b10",
   "metadata": {},
   "outputs": [
    {
     "data": {
      "text/plain": [
       "['cracked', 'normal']"
      ]
     },
     "execution_count": 4,
     "metadata": {},
     "output_type": "execute_result"
    }
   ],
   "source": [
    "learn.dls.vocab"
   ]
  },
  {
   "cell_type": "code",
   "execution_count": 5,
   "id": "4c91e6c4",
   "metadata": {},
   "outputs": [
    {
     "data": {
      "application/vnd.jupyter.widget-view+json": {
       "model_id": "2524e86282b348a7917b49480ca533c7",
       "version_major": 2,
       "version_minor": 0
      },
      "text/plain": [
       "FileUpload(value={}, description='Upload')"
      ]
     },
     "metadata": {},
     "output_type": "display_data"
    }
   ],
   "source": [
    "uploader = widgets.FileUpload()\n",
    "uploader"
   ]
  },
  {
   "cell_type": "code",
   "execution_count": 7,
   "id": "488027db",
   "metadata": {},
   "outputs": [],
   "source": [
    "img = PILImage.create(uploader.data[-1])"
   ]
  },
  {
   "cell_type": "code",
   "execution_count": 8,
   "id": "02d4ab26",
   "metadata": {},
   "outputs": [
    {
     "data": {
      "application/vnd.jupyter.widget-view+json": {
       "model_id": "df2da91519bb448cae88b8d99387404c",
       "version_major": 2,
       "version_minor": 0
      },
      "text/plain": [
       "Output()"
      ]
     },
     "metadata": {},
     "output_type": "display_data"
    }
   ],
   "source": [
    "out_pl = widgets.Output()\n",
    "out_pl.clear_output()\n",
    "with out_pl: display(img.to_thumb(128,128))\n",
    "\n",
    "out_pl"
   ]
  },
  {
   "cell_type": "code",
   "execution_count": 9,
   "id": "0399e432",
   "metadata": {},
   "outputs": [],
   "source": [
    "btn_run =  widgets.Button(description='Classify')\n"
   ]
  },
  {
   "cell_type": "code",
   "execution_count": 12,
   "id": "2c8c881f",
   "metadata": {},
   "outputs": [
    {
     "data": {
      "application/vnd.jupyter.widget-view+json": {
       "model_id": "899ced1ad17149068c513f11c0f4dda6",
       "version_major": 2,
       "version_minor": 0
      },
      "text/plain": [
       "Button(description='Classify', style=ButtonStyle())"
      ]
     },
     "metadata": {},
     "output_type": "display_data"
    }
   ],
   "source": [
    "def on_click_classify(change):\n",
    "    img = PILImage.create(uploader.data[-1])\n",
    "    out_pl.clear_output()\n",
    "    with out_pl: display(img.to_thumb(128,128))\n",
    "    pred,pred_idx,probs= learn.predict(img)\n",
    "    lbl_pred.value = f'Prediction: {pred}; Probability {probs[pred_idx]:.04f}'\n",
    "    \n",
    "\n",
    "btn_run.on_click(on_click_classify)\n",
    "btn_run"
   ]
  },
  {
   "cell_type": "code",
   "execution_count": 15,
   "id": "f58f0f30",
   "metadata": {},
   "outputs": [
    {
     "data": {
      "application/vnd.jupyter.widget-view+json": {
       "model_id": "71165b4456a7492dade4359bba01cb35",
       "version_major": 2,
       "version_minor": 0
      },
      "text/plain": [
       "VBox(children=(Label(value='Select Your Tire Thread ;)'), FileUpload(value={'images.jpeg': {'metadata': {'name…"
      ]
     },
     "metadata": {},
     "output_type": "display_data"
    }
   ],
   "source": [
    "widgets.VBox([widgets.Label('Select Your Tire Thread ;)'),\n",
    "      uploader,btn_run,out_pl])"
   ]
  },
  {
   "cell_type": "code",
   "execution_count": 16,
   "id": "aa9e289c",
   "metadata": {},
   "outputs": [
    {
     "name": "stdout",
     "output_type": "stream",
     "text": [
      "Requirement already satisfied: voila in /home/yekososa/mambaforge/lib/python3.10/site-packages (0.4.0)\n",
      "Requirement already satisfied: nbclient<0.8,>=0.4.0 in /home/yekososa/mambaforge/lib/python3.10/site-packages (from voila) (0.7.4)\n",
      "Requirement already satisfied: websockets>=9.0 in /home/yekososa/mambaforge/lib/python3.10/site-packages (from voila) (11.0.3)\n",
      "Requirement already satisfied: nbconvert<8,>=6.4.5 in /home/yekososa/mambaforge/lib/python3.10/site-packages (from voila) (7.4.0)\n",
      "Requirement already satisfied: jupyterlab-server<3,>=2.3.0 in /home/yekososa/mambaforge/lib/python3.10/site-packages (from voila) (2.23.0)\n",
      "Requirement already satisfied: jupyter-core>=4.11.0 in /home/yekososa/mambaforge/lib/python3.10/site-packages (from voila) (5.3.0)\n",
      "Requirement already satisfied: traitlets<6,>=5.0.3 in /home/yekososa/mambaforge/lib/python3.10/site-packages (from voila) (5.9.0)\n",
      "Requirement already satisfied: jupyter-server<2.0.0,>=1.18 in /home/yekososa/mambaforge/lib/python3.10/site-packages (from voila) (1.24.0)\n",
      "Requirement already satisfied: jupyter-client<=7.4.1,>=6.1.3 in /home/yekososa/mambaforge/lib/python3.10/site-packages (from voila) (7.4.1)\n",
      "Requirement already satisfied: tornado>=6.2 in /home/yekososa/mambaforge/lib/python3.10/site-packages (from jupyter-client<=7.4.1,>=6.1.3->voila) (6.3.2)\n",
      "Requirement already satisfied: nest-asyncio>=1.5.4 in /home/yekososa/mambaforge/lib/python3.10/site-packages (from jupyter-client<=7.4.1,>=6.1.3->voila) (1.5.6)\n",
      "Requirement already satisfied: entrypoints in /home/yekososa/mambaforge/lib/python3.10/site-packages (from jupyter-client<=7.4.1,>=6.1.3->voila) (0.4)\n",
      "Requirement already satisfied: python-dateutil>=2.8.2 in /home/yekososa/mambaforge/lib/python3.10/site-packages (from jupyter-client<=7.4.1,>=6.1.3->voila) (2.8.2)\n",
      "Requirement already satisfied: pyzmq>=23.0 in /home/yekososa/mambaforge/lib/python3.10/site-packages (from jupyter-client<=7.4.1,>=6.1.3->voila) (25.1.0)\n",
      "Requirement already satisfied: platformdirs>=2.5 in /home/yekososa/mambaforge/lib/python3.10/site-packages (from jupyter-core>=4.11.0->voila) (3.5.3)\n",
      "Requirement already satisfied: nbformat>=5.2.0 in /home/yekososa/mambaforge/lib/python3.10/site-packages (from jupyter-server<2.0.0,>=1.18->voila) (5.9.0)\n",
      "Requirement already satisfied: prometheus-client in /home/yekososa/mambaforge/lib/python3.10/site-packages (from jupyter-server<2.0.0,>=1.18->voila) (0.17.0)\n",
      "Requirement already satisfied: terminado>=0.8.3 in /home/yekososa/mambaforge/lib/python3.10/site-packages (from jupyter-server<2.0.0,>=1.18->voila) (0.17.1)\n",
      "Requirement already satisfied: anyio<4,>=3.1.0 in /home/yekososa/mambaforge/lib/python3.10/site-packages (from jupyter-server<2.0.0,>=1.18->voila) (3.7.0)\n",
      "Requirement already satisfied: jinja2 in /home/yekososa/mambaforge/lib/python3.10/site-packages (from jupyter-server<2.0.0,>=1.18->voila) (3.1.2)\n",
      "Requirement already satisfied: argon2-cffi in /home/yekososa/mambaforge/lib/python3.10/site-packages (from jupyter-server<2.0.0,>=1.18->voila) (21.3.0)\n",
      "Requirement already satisfied: websocket-client in /home/yekososa/mambaforge/lib/python3.10/site-packages (from jupyter-server<2.0.0,>=1.18->voila) (1.5.3)\n",
      "Requirement already satisfied: packaging in /home/yekososa/mambaforge/lib/python3.10/site-packages (from jupyter-server<2.0.0,>=1.18->voila) (23.1)\n",
      "Requirement already satisfied: Send2Trash in /home/yekososa/mambaforge/lib/python3.10/site-packages (from jupyter-server<2.0.0,>=1.18->voila) (1.8.2)\n",
      "Requirement already satisfied: jsonschema>=4.17.3 in /home/yekososa/mambaforge/lib/python3.10/site-packages (from jupyterlab-server<3,>=2.3.0->voila) (4.17.3)\n",
      "Requirement already satisfied: babel>=2.10 in /home/yekososa/mambaforge/lib/python3.10/site-packages (from jupyterlab-server<3,>=2.3.0->voila) (2.12.1)\n",
      "Requirement already satisfied: json5>=0.9.0 in /home/yekososa/mambaforge/lib/python3.10/site-packages (from jupyterlab-server<3,>=2.3.0->voila) (0.9.14)\n",
      "Requirement already satisfied: requests>=2.28 in /home/yekososa/mambaforge/lib/python3.10/site-packages (from jupyterlab-server<3,>=2.3.0->voila) (2.28.2)\n",
      "Requirement already satisfied: pygments>=2.4.1 in /home/yekososa/mambaforge/lib/python3.10/site-packages (from nbconvert<8,>=6.4.5->voila) (2.15.1)\n",
      "Requirement already satisfied: jupyterlab-pygments in /home/yekososa/mambaforge/lib/python3.10/site-packages (from nbconvert<8,>=6.4.5->voila) (0.2.2)\n",
      "Requirement already satisfied: defusedxml in /home/yekososa/mambaforge/lib/python3.10/site-packages (from nbconvert<8,>=6.4.5->voila) (0.7.1)\n",
      "Requirement already satisfied: pandocfilters>=1.4.1 in /home/yekososa/mambaforge/lib/python3.10/site-packages (from nbconvert<8,>=6.4.5->voila) (1.5.0)\n",
      "Requirement already satisfied: tinycss2 in /home/yekososa/mambaforge/lib/python3.10/site-packages (from nbconvert<8,>=6.4.5->voila) (1.2.1)\n",
      "Requirement already satisfied: beautifulsoup4 in /home/yekososa/mambaforge/lib/python3.10/site-packages (from nbconvert<8,>=6.4.5->voila) (4.12.2)\n",
      "Requirement already satisfied: bleach in /home/yekososa/mambaforge/lib/python3.10/site-packages (from nbconvert<8,>=6.4.5->voila) (6.0.0)\n",
      "Requirement already satisfied: mistune<3,>=2.0.3 in /home/yekososa/mambaforge/lib/python3.10/site-packages (from nbconvert<8,>=6.4.5->voila) (2.0.5)\n",
      "Requirement already satisfied: markupsafe>=2.0 in /home/yekososa/mambaforge/lib/python3.10/site-packages (from nbconvert<8,>=6.4.5->voila) (2.1.3)\n",
      "Requirement already satisfied: idna>=2.8 in /home/yekososa/mambaforge/lib/python3.10/site-packages (from anyio<4,>=3.1.0->jupyter-server<2.0.0,>=1.18->voila) (3.4)\n",
      "Requirement already satisfied: exceptiongroup in /home/yekososa/mambaforge/lib/python3.10/site-packages (from anyio<4,>=3.1.0->jupyter-server<2.0.0,>=1.18->voila) (1.1.1)\n",
      "Requirement already satisfied: sniffio>=1.1 in /home/yekososa/mambaforge/lib/python3.10/site-packages (from anyio<4,>=3.1.0->jupyter-server<2.0.0,>=1.18->voila) (1.3.0)\n",
      "Requirement already satisfied: attrs>=17.4.0 in /home/yekososa/mambaforge/lib/python3.10/site-packages (from jsonschema>=4.17.3->jupyterlab-server<3,>=2.3.0->voila) (23.1.0)\n",
      "Requirement already satisfied: pyrsistent!=0.17.0,!=0.17.1,!=0.17.2,>=0.14.0 in /home/yekososa/mambaforge/lib/python3.10/site-packages (from jsonschema>=4.17.3->jupyterlab-server<3,>=2.3.0->voila) (0.19.3)\n",
      "Requirement already satisfied: fastjsonschema in /home/yekososa/mambaforge/lib/python3.10/site-packages (from nbformat>=5.2.0->jupyter-server<2.0.0,>=1.18->voila) (2.17.1)\n",
      "Requirement already satisfied: six>=1.5 in /home/yekososa/mambaforge/lib/python3.10/site-packages (from python-dateutil>=2.8.2->jupyter-client<=7.4.1,>=6.1.3->voila) (1.16.0)\n",
      "Requirement already satisfied: charset-normalizer<4,>=2 in /home/yekososa/mambaforge/lib/python3.10/site-packages (from requests>=2.28->jupyterlab-server<3,>=2.3.0->voila) (3.1.0)\n",
      "Requirement already satisfied: urllib3<1.27,>=1.21.1 in /home/yekososa/mambaforge/lib/python3.10/site-packages (from requests>=2.28->jupyterlab-server<3,>=2.3.0->voila) (1.26.15)\n",
      "Requirement already satisfied: certifi>=2017.4.17 in /home/yekososa/mambaforge/lib/python3.10/site-packages (from requests>=2.28->jupyterlab-server<3,>=2.3.0->voila) (2023.5.7)\n",
      "Requirement already satisfied: ptyprocess in /home/yekososa/mambaforge/lib/python3.10/site-packages (from terminado>=0.8.3->jupyter-server<2.0.0,>=1.18->voila) (0.7.0)\n",
      "Requirement already satisfied: argon2-cffi-bindings in /home/yekososa/mambaforge/lib/python3.10/site-packages (from argon2-cffi->jupyter-server<2.0.0,>=1.18->voila) (21.2.0)\n",
      "Requirement already satisfied: soupsieve>1.2 in /home/yekososa/mambaforge/lib/python3.10/site-packages (from beautifulsoup4->nbconvert<8,>=6.4.5->voila) (2.4.1)\n",
      "Requirement already satisfied: webencodings in /home/yekososa/mambaforge/lib/python3.10/site-packages (from bleach->nbconvert<8,>=6.4.5->voila) (0.5.1)\n",
      "Requirement already satisfied: cffi>=1.0.1 in /home/yekososa/mambaforge/lib/python3.10/site-packages (from argon2-cffi-bindings->argon2-cffi->jupyter-server<2.0.0,>=1.18->voila) (1.15.1)\n",
      "Requirement already satisfied: pycparser in /home/yekososa/mambaforge/lib/python3.10/site-packages (from cffi>=1.0.1->argon2-cffi-bindings->argon2-cffi->jupyter-server<2.0.0,>=1.18->voila) (2.21)\n"
     ]
    },
    {
     "name": "stdout",
     "output_type": "stream",
     "text": [
      "Enabling: voila\n",
      "- Writing config: /home/yekososa/mambaforge/etc/jupyter\n",
      "    - Validating...\n",
      "      voila 0.4.0 \u001b[32mOK\u001b[0m\n"
     ]
    }
   ],
   "source": [
    "!pip install voila\n",
    "!jupyter serverextension enable --sys-prefix voila"
   ]
  },
  {
   "cell_type": "code",
   "execution_count": null,
   "id": "b00cbcc9",
   "metadata": {},
   "outputs": [],
   "source": []
  }
 ],
 "metadata": {
  "kernelspec": {
   "display_name": "Python 3 (ipykernel)",
   "language": "python",
   "name": "python3"
  },
  "language_info": {
   "codemirror_mode": {
    "name": "ipython",
    "version": 3
   },
   "file_extension": ".py",
   "mimetype": "text/x-python",
   "name": "python",
   "nbconvert_exporter": "python",
   "pygments_lexer": "ipython3",
   "version": "3.10.10"
  }
 },
 "nbformat": 4,
 "nbformat_minor": 5
}
